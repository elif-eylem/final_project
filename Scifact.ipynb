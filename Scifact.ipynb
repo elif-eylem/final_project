{
 "cells": [
  {
   "cell_type": "code",
   "execution_count": 1,
   "id": "0828d38c-b0dc-49fb-af6a-bfacac974a67",
   "metadata": {},
   "outputs": [],
   "source": [
    "from IPython.core.interactiveshell import InteractiveShell\n",
    "InteractiveShell.ast_node_interactivity = \"all\"  # shows all output, not just the last one\n"
   ]
  },
  {
   "cell_type": "code",
   "execution_count": 2,
   "id": "b9adcf6f-caa3-45b5-ad62-8eb838e68a8d",
   "metadata": {},
   "outputs": [
    {
     "data": {
      "text/plain": [
       "True"
      ]
     },
     "execution_count": 2,
     "metadata": {},
     "output_type": "execute_result"
    },
    {
     "name": "stdout",
     "output_type": "stream",
     "text": [
      "315a8d1abd944e888591cb7a058a50ae\n",
      "getting models\n"
     ]
    }
   ],
   "source": [
    "from dotenv import load_dotenv\n",
    "import os\n",
    "load_dotenv()\n",
    "load_dotenv()\n",
    "\n",
    "search_engine = 'google'\n",
    "max_hits_per_query = 100\n",
    "max_token_count = 20000\n",
    "max_chunk_tokens = 2000 \n",
    "desired_overlap_tokens = max_chunk_tokens/10\n",
    "\n",
    "\n",
    "scifact_topics = [\n",
    "    \"Immunology\",\n",
    "    \"Cancer biology\",\n",
    "    \"Neuroscience\",\n",
    "    \"Genetics and genomics\",\n",
    "    \"Cell biology\",\n",
    "    \"Developmental biology\",\n",
    "    \"Molecular biology\",\n",
    "    \"Structural biology\",\n",
    "    \"Pharmacology\",\n",
    "    \"Clinical medicine\",\n",
    "    \"Pathology\",\n",
    "    \"Physiology\",\n",
    "    \"Microbiology\",\n",
    "    \"Virology\"\n",
    "]\n",
    "\n",
    "\n",
    "%run create_graph.ipynb"
   ]
  },
  {
   "cell_type": "code",
   "execution_count": 3,
   "id": "10fad6c4-3443-4bfb-b6e1-432dc649280f",
   "metadata": {},
   "outputs": [],
   "source": [
    "data_dir = '/dccstor/bmfm-targets1/users/eyigoz/openai/notebooks/Final/scifact/'"
   ]
  },
  {
   "cell_type": "code",
   "execution_count": 4,
   "id": "e85b6f9c-8ecb-4bc2-a02a-62af9e824161",
   "metadata": {},
   "outputs": [],
   "source": [
    "import pandas as pd\n",
    "\n",
    "train_df = pd.read_json(data_dir+'claims_train.jsonl',lines=True)\n",
    "dev_df = pd.read_json(data_dir+'claims_dev.jsonl',lines=True)\n",
    "test_df = pd.read_json(data_dir+'claims_test.jsonl',lines=True)"
   ]
  },
  {
   "cell_type": "code",
   "execution_count": null,
   "id": "5570e94d-65de-43a5-a601-fdb5c874c18d",
   "metadata": {},
   "outputs": [],
   "source": []
  },
  {
   "cell_type": "code",
   "execution_count": 5,
   "id": "b4da7a4c-f500-441a-a64e-fa6fe320625d",
   "metadata": {},
   "outputs": [
    {
     "data": {
      "text/plain": [
       "label\n",
       "SUPPORT                332\n",
       "Not Enough Evidence    304\n",
       "CONTRADICT             173\n",
       "Name: count, dtype: int64"
      ]
     },
     "execution_count": 5,
     "metadata": {},
     "output_type": "execute_result"
    }
   ],
   "source": [
    "def get_labels(evidence):\n",
    "    labels = []\n",
    "    for val in evidence.values():\n",
    "        if len(val) > 0:\n",
    "            for evi in val:\n",
    "                labels.append(evi['label'])\n",
    "    labels = set(labels)\n",
    "    if len(labels) > 0:\n",
    "        return labels.pop()\n",
    "        \n",
    "    return None\n",
    "    \n",
    "train_df['label'] = train_df.evidence.apply(lambda x: get_labels(x))\n",
    "\n",
    "train_df['label'] = train_df['label'].fillna('Not Enough Evidence')\n",
    "\n",
    "train_df.label.value_counts()\n"
   ]
  },
  {
   "cell_type": "code",
   "execution_count": 6,
   "id": "6428a378-d824-4dfa-9a6b-fa1b977992d6",
   "metadata": {},
   "outputs": [
    {
     "data": {
      "text/plain": [
       "label\n",
       "SUPPORT                124\n",
       "Not Enough Evidence    112\n",
       "CONTRADICT              64\n",
       "Name: count, dtype: int64"
      ]
     },
     "execution_count": 6,
     "metadata": {},
     "output_type": "execute_result"
    }
   ],
   "source": [
    "dev_df['label'] = dev_df.evidence.apply(lambda x: get_labels(x))\n",
    "\n",
    "dev_df['label'] = dev_df['label'].fillna('Not Enough Evidence')\n",
    "\n",
    "dev_df.label.value_counts()"
   ]
  },
  {
   "cell_type": "code",
   "execution_count": 7,
   "id": "7136289e-ffe5-4b7d-8568-0205562b2599",
   "metadata": {},
   "outputs": [],
   "source": [
    "train_df['claim_date'] = '01/01/1980'"
   ]
  },
  {
   "cell_type": "code",
   "execution_count": 8,
   "id": "508a7258-d0c9-41cc-86fa-4b957b30a2e2",
   "metadata": {},
   "outputs": [],
   "source": [
    "dev_df['claim_date'] = '01/01/1980'"
   ]
  },
  {
   "cell_type": "code",
   "execution_count": 9,
   "id": "4b5bc6ed-004f-459f-93fa-1234e44bd7ee",
   "metadata": {},
   "outputs": [],
   "source": [
    "train_df.to_csv('scifact.train.csv')\n",
    "dev_df.to_csv('scifact.dev.csv')"
   ]
  },
  {
   "cell_type": "code",
   "execution_count": 10,
   "id": "031a6eab-65c7-47fb-9239-64414c8c0d46",
   "metadata": {},
   "outputs": [
    {
     "data": {
      "text/plain": [
       "id                                                              52\n",
       "claim            ALDH1 expression is associated with poorer pro...\n",
       "evidence         {'45638119': [{'sentences': [4], 'label': 'SUP...\n",
       "cited_doc_ids                                           [45638119]\n",
       "label                                                      SUPPORT\n",
       "claim_date                                              01/01/1980\n",
       "Name: 34, dtype: object"
      ]
     },
     "execution_count": 10,
     "metadata": {},
     "output_type": "execute_result"
    },
    {
     "name": "stdout",
     "output_type": "stream",
     "text": [
      "len results 82\n",
      "'NoneType' object has no attribute 'strip'\n",
      "https://www.scienceopen.com/document_file/bf7a8b33-c729-42c5-afbc-dd62e2f53eec/PubMedCentral/bf7a8b33-c729-42c5-afbc-dd62e2f53eec.pdf\n",
      "'NoneType' object has no attribute 'strip'\n",
      "https://www.cell.com/iscience/pdf/S2589-0042(23)02219-8.pdf\n",
      "'NoneType' object has no attribute 'strip'\n",
      "https://moonlab.engin.umich.edu/wp-content/uploads/sites/584/2022/10/109-Liao-Cancer-Immunol-Immunotherapy-2022.pdf\n",
      "'NoneType' object has no attribute 'strip'\n",
      "https://www.research.ed.ac.uk/files/157539323/1_s2.0_S2213671120302411_main.pdf\n",
      "'NoneType' object has no attribute 'strip'\n",
      "https://www.jogcr.com/article_697135_202266b84256124790923432fe121337.pdf\n",
      "'NoneType' object has no attribute 'strip'\n",
      "https://ijp.iranpath.org/article_46929_15565a3f4cede4ce96c2a9df8bc22186.pdf\n",
      "Exceeded 30 redirects.\n",
      "https://atlasgeneticsoncology.org/gene/53077/aldh1a1-(aldehyde-dehydrogenase-1-family-member-a1)\n",
      "HTTPSConnectionPool(host='www.alliedacademies.org', port=443): Read timed out. (read timeout=10)\n",
      "https://www.alliedacademies.org/articles/chemoresistance-in-breast-cancer-stem-cells.html\n",
      "token_count [   10    10 10057    11   190    11 29933 18887    11 28909 22461 15852\n",
      "   189 18739 35783    11 11905 28030]\n",
      "target_tokens_per_result [  10   10 1188   11  190   11 2464 1746   11 2397 1977 1552  189 1737\n",
      " 2848   11 1303 2340]\n"
     ]
    }
   ],
   "source": [
    "samp = train_df.sample(1)\n",
    "samp.iloc[0]\n",
    "\n",
    "res = graph.invoke(get_search_results(samp.iloc[0]))"
   ]
  },
  {
   "cell_type": "code",
   "execution_count": 11,
   "id": "9711261c-0c0f-4133-91cf-daeed324a743",
   "metadata": {},
   "outputs": [
    {
     "data": {
      "text/html": [
       "<div>\n",
       "<style scoped>\n",
       "    .dataframe tbody tr th:only-of-type {\n",
       "        vertical-align: middle;\n",
       "    }\n",
       "\n",
       "    .dataframe tbody tr th {\n",
       "        vertical-align: top;\n",
       "    }\n",
       "\n",
       "    .dataframe thead th {\n",
       "        text-align: right;\n",
       "    }\n",
       "</style>\n",
       "<table border=\"1\" class=\"dataframe\">\n",
       "  <thead>\n",
       "    <tr style=\"text-align: right;\">\n",
       "      <th></th>\n",
       "      <th>id</th>\n",
       "      <th>claim</th>\n",
       "      <th>evidence</th>\n",
       "      <th>cited_doc_ids</th>\n",
       "      <th>label</th>\n",
       "      <th>claim_date</th>\n",
       "    </tr>\n",
       "  </thead>\n",
       "  <tbody>\n",
       "    <tr>\n",
       "      <th>34</th>\n",
       "      <td>52</td>\n",
       "      <td>ALDH1 expression is associated with poorer pro...</td>\n",
       "      <td>{'45638119': [{'sentences': [4], 'label': 'SUP...</td>\n",
       "      <td>[45638119]</td>\n",
       "      <td>SUPPORT</td>\n",
       "      <td>01/01/1980</td>\n",
       "    </tr>\n",
       "  </tbody>\n",
       "</table>\n",
       "</div>"
      ],
      "text/plain": [
       "    id                                              claim  \\\n",
       "34  52  ALDH1 expression is associated with poorer pro...   \n",
       "\n",
       "                                             evidence cited_doc_ids    label  \\\n",
       "34  {'45638119': [{'sentences': [4], 'label': 'SUP...    [45638119]  SUPPORT   \n",
       "\n",
       "    claim_date  \n",
       "34  01/01/1980  "
      ]
     },
     "execution_count": 11,
     "metadata": {},
     "output_type": "execute_result"
    },
    {
     "data": {
      "text/plain": [
       "'ALDH1 expression is associated with poorer prognosis for breast cancer primary tumors.'"
      ]
     },
     "execution_count": 11,
     "metadata": {},
     "output_type": "execute_result"
    },
    {
     "data": {
      "text/plain": [
       "[]"
      ]
     },
     "execution_count": 11,
     "metadata": {},
     "output_type": "execute_result"
    },
    {
     "data": {
      "text/plain": [
       "{'1. Is ALDH1 expression associated with breast cancer primary tumors?',\n",
       " '2. Does ALDH1 expression have an impact on the prognosis of breast cancer primary tumors?',\n",
       " '3. Is the prognosis for breast cancer primary tumors with ALDH1 expression poorer compared to those without ALDH1 expression?',\n",
       " 'Here are the individual verifiable questions based on the claim:'}"
      ]
     },
     "execution_count": 11,
     "metadata": {},
     "output_type": "execute_result"
    },
    {
     "data": {
      "text/plain": [
       "['Here are the most relevant sentences that directly address or provide evidence about the claim:',\n",
       " '1. ALDH1 expression is associated with poorer prognosis for breast cancer primary tumors, as it is a marker of cancer stem cells and a predictor of poor clinical outcome.',\n",
       " '2. Studies have shown that high ALDH1 expression is correlated with worse disease-free and overall survival, and a higher risk of recurrence, particularly when cyclophosphamide is part of the chemotherapy regimen.',\n",
       " '3. ALDH1A1 expression has been found to be associated with poor prognosis in breast cancer patients, including those with triple-negative and HER2-positive tumors.',\n",
       " '4. Research has identified ALDH1 as a potential therapeutic target for breast cancer, particularly in the context of cancer stem cells.',\n",
       " '5. The expression of ALDH1 has been linked to poor prognosis, metastasis, and tumor-initiating features in breast cancer.',\n",
       " '6. ALDH1-positive breast cancer cells have been found to exhibit increased radioresistance and chemoresistance, contributing to poorer outcomes.',\n",
       " '7. High ALDH1 expression has been correlated with poorer overall survival and disease-free survival in breast cancer patients.',\n",
       " '8. ALDH1A1 has been identified as a marker for cancer stem cells in breast cancer, and its expression is associated with poor clinical outcome.',\n",
       " '9. The study found that ALDH1 expression was associated with worse prognosis in breast cancer primary tumors, particularly in those with high-grade tumors.',\n",
       " '10. ALDH1 expression has been found to be a predictor of metastasis and poor prognosis in breast cancer patients, particularly those with triple-negative tumors.',\n",
       " 'These sentences provide evidence that ALDH1 expression is associated with poorer prognosis for breast cancer primary tumors, and that it may be a useful marker for identifying patients at high risk of recurrence and metastasis.']"
      ]
     },
     "execution_count": 11,
     "metadata": {},
     "output_type": "execute_result"
    },
    {
     "name": "stdout",
     "output_type": "stream",
     "text": [
      "{\n",
      "  \"question_answer_pairs\": [\n",
      "    {\n",
      "      \"question\": \"Is ALDH1 expression associated with breast cancer primary tumors?\",\n",
      "      \"answer\": \"ALDH1 expression is associated with poorer prognosis for breast cancer primary tumors, as it is a marker of cancer stem cells and a predictor of poor clinical outcome.\"\n",
      "    },\n",
      "    {\n",
      "      \"question\": \"Is ALDH1 expression associated with breast cancer primary tumors?\",\n",
      "      \"answer\": \"The expression of ALDH1 has been linked to poor prognosis, metastasis, and tumor-initiating features in breast cancer.\"\n",
      "    },\n",
      "    {\n",
      "      \"question\": \"Is ALDH1 expression associated with breast cancer primary tumors?\",\n",
      "      \"answer\": \"ALDH1 expression has been found to be a predictor of metastasis and poor prognosis in breast cancer patients, particularly those with triple-negative tumors.\"\n",
      "    },\n",
      "    {\n",
      "      \"question\": \"Does ALDH1 expression have an impact on the prognosis of breast cancer primary tumors?\",\n",
      "      \"answer\": \"ALDH1 expression is associated with poorer prognosis for breast cancer primary tumors, as it is a marker of cancer stem cells and a predictor of poor clinical outcome.\"\n",
      "    },\n",
      "    {\n",
      "      \"question\": \"Does ALDH1 expression have an impact on the prognosis of breast cancer primary tumors?\",\n",
      "      \"answer\": \"Studies have shown that high ALDH1 expression is correlated with worse disease-free and overall survival, and a higher risk of recurrence, particularly when cyclophosphamide is part of the chemotherapy regimen.\"\n",
      "    },\n",
      "    {\n",
      "      \"question\": \"Does ALDH1 expression have an impact on the prognosis of breast cancer primary tumors?\",\n",
      "      \"answer\": \"High ALDH1 expression has been correlated with poorer overall survival and disease-free survival in breast cancer patients.\"\n",
      "    },\n",
      "    {\n",
      "      \"question\": \"Does ALDH1 expression have an impact on the prognosis of breast cancer primary tumors?\",\n",
      "      \"answer\": \"The study found that ALDH1 expression was associated with worse prognosis in breast cancer primary tumors, particularly in those with high-grade tumors.\"\n",
      "    },\n",
      "    {\n",
      "      \"question\": \"Is the prognosis for breast cancer primary tumors with ALDH1 expression poorer compared to those without ALDH1 expression?\",\n",
      "      \"answer\": \"ALDH1 expression is associated with poorer prognosis for breast cancer primary tumors, as it is a marker of cancer stem cells and a predictor of poor clinical outcome.\"\n",
      "    },\n",
      "    {\n",
      "      \"question\": \"Is the prognosis for breast cancer primary tumors with ALDH1 expression poorer compared to those without ALDH1 expression?\",\n",
      "      \"answer\": \"Studies have shown that high ALDH1 expression is correlated with worse disease-free and overall survival, and a higher risk of recurrence, particularly when cyclophosphamide is part of the chemotherapy regimen.\"\n",
      "    },\n",
      "    {\n",
      "      \"question\": \"Is the prognosis for breast cancer primary tumors with ALDH1 expression poorer compared to those without ALDH1 expression?\",\n",
      "      \"answer\": \"High ALDH1 expression has been correlated with poorer overall survival and disease-free survival in breast cancer patients.\"\n",
      "    }\n",
      "  ]\n",
      "}\n"
     ]
    },
    {
     "data": {
      "text/plain": [
       "'```json\\n{\\n  \"result\": \"supports\",\\n  \"explanation\": \"All the question-answer pairs consistently indicate that ALDH1 expression is associated with poorer prognosis for breast cancer primary tumors, providing strong evidence to support the claim.\"\\n}\\n```'"
      ]
     },
     "execution_count": 11,
     "metadata": {},
     "output_type": "execute_result"
    }
   ],
   "source": [
    "# res.keys()#['search_results']\n",
    "\n",
    "samp\n",
    "\n",
    "res['claim']\n",
    "\n",
    "res['generated_evidence']\n",
    "\n",
    "set(res['questions'])\n",
    "\n",
    "res['relevant_sentences']\n",
    "\n",
    "print(res['qa_pairs'])\n",
    "\n",
    "res['verifier_result']"
   ]
  },
  {
   "cell_type": "code",
   "execution_count": 12,
   "id": "6b0e6d1d-2380-4208-8c06-6af99ac0d907",
   "metadata": {},
   "outputs": [],
   "source": [
    "out_dir = '/dccstor/bmfm-targets1/users/eyigoz/openai/notebooks/Final/scifact_split_csvs/'\n",
    "\n",
    "\n",
    "def split_into_chunks(lst, n):\n",
    "    return [lst[i:i + n] for i in range(0, len(lst), n)]\n",
    "\n",
    "\n",
    "def graph_invoke(df, index,split_name):\n",
    "    res = df.loc[index].apply(lambda row: graph.invoke(get_search_results(row)),axis=1)\n",
    "    pickle.dump(res,open(out_dir+split_name+\"-\".join(map(str,(index[0],index[-1])))+\".pkl\",'wb'))\n"
   ]
  },
  {
   "cell_type": "code",
   "execution_count": null,
   "id": "e12041d8-3c10-4cff-b89e-238c088ed098",
   "metadata": {},
   "outputs": [
    {
     "name": "stdout",
     "output_type": "stream",
     "text": [
      "MuPDF error: syntax error: cannot find XObject resource 'Im0'\n",
      "\n",
      "MuPDF error: syntax error: cannot find XObject resource 'Im0'\n",
      "\n",
      "MuPDF error: syntax error: cannot find XObject resource 'Im0'\n",
      "\n",
      "MuPDF error: syntax error: cannot find XObject resource 'Im0'\n",
      "\n",
      "MuPDF error: syntax error: cannot find XObject resource 'Im0'\n",
      "\n"
     ]
    }
   ],
   "source": [
    "%%capture\n",
    "index = list(train_df.index)\n",
    "indices = split_into_chunks(index,5)\n",
    "\n",
    "#indices\n",
    "\n",
    "arguments = [(train_df,i,\"train\") for i in indices]\n",
    "\n",
    "#graph_invoke(*arguments[0])\n",
    "\n",
    " \n",
    "\n",
    "  \n",
    "with ThreadPoolExecutor(max_workers=2) as executor:\n",
    "    futures = [executor.submit(graph_invoke, *args) for args in arguments]\n",
    "    results = [f.result() for f in futures]"
   ]
  },
  {
   "cell_type": "code",
   "execution_count": null,
   "id": "0181a281-5287-45fd-8924-c06b76db8fb2",
   "metadata": {},
   "outputs": [],
   "source": [
    "%%capture\n",
    "index = list(dev_df.index)\n",
    "indices = split_into_chunks(index,5)\n",
    "\n",
    "#indices\n",
    "\n",
    "arguments = [(dev_df,i,\"dev\") for i in indices]\n",
    "\n",
    "#graph_invoke(*arguments[0])\n",
    "\n",
    " \n",
    "\n",
    "  \n",
    "with ThreadPoolExecutor(max_workers=2) as executor:\n",
    "    futures = [executor.submit(graph_invoke, *args) for args in arguments]\n",
    "    results = [f.result() for f in futures]"
   ]
  },
  {
   "cell_type": "code",
   "execution_count": null,
   "id": "8021cf29-a660-4b4d-90d9-ae634082cf8c",
   "metadata": {},
   "outputs": [],
   "source": []
  }
 ],
 "metadata": {
  "kernelspec": {
   "display_name": "Python 3 (ipykernel)",
   "language": "python",
   "name": "python3"
  },
  "language_info": {
   "codemirror_mode": {
    "name": "ipython",
    "version": 3
   },
   "file_extension": ".py",
   "mimetype": "text/x-python",
   "name": "python",
   "nbconvert_exporter": "python",
   "pygments_lexer": "ipython3",
   "version": "3.9.21"
  }
 },
 "nbformat": 4,
 "nbformat_minor": 5
}
